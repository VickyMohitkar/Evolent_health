{
 "cells": [
  {
   "cell_type": "code",
   "execution_count": 47,
   "id": "f34e15d5",
   "metadata": {},
   "outputs": [],
   "source": [
    " a=[3,2,4,5,3,7,8,9,7,6,5,3,1,6,8]"
   ]
  },
  {
   "cell_type": "code",
   "execution_count": 48,
   "id": "f1c4e3e5",
   "metadata": {},
   "outputs": [],
   "source": [
    "#sort the list in ascending order\n",
    "def sortlist(x):\n",
    "    sort_lst=[]\n",
    "    while x:\n",
    "        minimum=x[0]\n",
    "        for i in range(len(x)):\n",
    "            if x[i]< minimum:\n",
    "                minimum=x[i]\n",
    "        sort_lst.append(minimum)\n",
    "        x.remove(minimum)\n",
    "    print(\"Ascending order list is:\",sort_lst)"
   ]
  },
  {
   "cell_type": "code",
   "execution_count": 49,
   "id": "c8c55b77",
   "metadata": {},
   "outputs": [
    {
     "name": "stdout",
     "output_type": "stream",
     "text": [
      "Ascending order list is: [1, 2, 3, 3, 3, 4, 5, 5, 6, 6, 7, 7, 8, 8, 9]\n"
     ]
    }
   ],
   "source": [
    "sortlist(a)"
   ]
  },
  {
   "cell_type": "code",
   "execution_count": null,
   "id": "4669f36e",
   "metadata": {},
   "outputs": [],
   "source": []
  },
  {
   "cell_type": "code",
   "execution_count": null,
   "id": "9dd8ee41",
   "metadata": {},
   "outputs": [],
   "source": []
  },
  {
   "cell_type": "code",
   "execution_count": 50,
   "id": "dec4584a",
   "metadata": {},
   "outputs": [],
   "source": [
    "#write a function to find the no of occurence of items inside list\n",
    "def occur(x):\n",
    "    s={}\n",
    "    var=0\n",
    "    count=0\n",
    "    for i in range(len(x)):\n",
    "        var=x[i]\n",
    "        \n",
    "        for j in range(i,len(x)):\n",
    "            if x[i]==x[j]:\n",
    "                count+=1\n",
    "                \n",
    "        vals=({var:count})\n",
    "        count=0\n",
    "        if var not in s.keys():\n",
    "            s.update(vals)\n",
    "    result=s.items()\n",
    "    print(list(result))"
   ]
  },
  {
   "cell_type": "code",
   "execution_count": 51,
   "id": "55413294",
   "metadata": {},
   "outputs": [],
   "source": [
    "b=[1,3,2,4,5,67,4,3,6,78,3]"
   ]
  },
  {
   "cell_type": "code",
   "execution_count": 52,
   "id": "37a8bf18",
   "metadata": {},
   "outputs": [
    {
     "name": "stdout",
     "output_type": "stream",
     "text": [
      "[(1, 1), (3, 3), (2, 1), (4, 2), (5, 1), (67, 1), (6, 1), (78, 1)]\n"
     ]
    }
   ],
   "source": [
    "occur(b)"
   ]
  },
  {
   "cell_type": "code",
   "execution_count": null,
   "id": "d4ea7ddf",
   "metadata": {},
   "outputs": [],
   "source": []
  },
  {
   "cell_type": "code",
   "execution_count": null,
   "id": "2e7c23a5",
   "metadata": {},
   "outputs": [],
   "source": []
  },
  {
   "cell_type": "code",
   "execution_count": null,
   "id": "1f262196",
   "metadata": {},
   "outputs": [],
   "source": []
  },
  {
   "cell_type": "code",
   "execution_count": null,
   "id": "45035cd7",
   "metadata": {},
   "outputs": [],
   "source": []
  }
 ],
 "metadata": {
  "kernelspec": {
   "display_name": "Python 3",
   "language": "python",
   "name": "python3"
  },
  "language_info": {
   "codemirror_mode": {
    "name": "ipython",
    "version": 3
   },
   "file_extension": ".py",
   "mimetype": "text/x-python",
   "name": "python",
   "nbconvert_exporter": "python",
   "pygments_lexer": "ipython3",
   "version": "3.8.8"
  }
 },
 "nbformat": 4,
 "nbformat_minor": 5
}
